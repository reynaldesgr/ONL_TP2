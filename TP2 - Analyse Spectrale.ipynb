{
 "cells": [
  {
   "cell_type": "markdown",
   "id": "49a505d7",
   "metadata": {},
   "source": [
    "## TP : Analyse Spectrale"
   ]
  },
  {
   "cell_type": "markdown",
   "id": "1dfcbc32",
   "metadata": {},
   "source": [
    "### 1. Puissance itérée et méthode de déflation"
   ]
  },
  {
   "cell_type": "markdown",
   "id": "557d3c18",
   "metadata": {},
   "source": [
    "* **Principe**\n",
    "\n",
    "La méthode de la puissance itérée consiste à calculer la suite :\n",
    "\n",
    "$x_{k+1} = \\frac{A_{x_{k}}}{||A_{x_{k}}||}$\n",
    "\n",
    "qui va converger vers un vecteur propre associé à la valeur propre de plus grand module $\\lambda_{1}$."
   ]
  },
  {
   "cell_type": "markdown",
   "id": "e70dec8e",
   "metadata": {},
   "source": [
    "* **Fonctionnement**\n",
    "\n",
    "*Méthode de la puissance itérée*\n",
    "\n",
    "``1.`` Choisir un vecteur initial non nul $x_0$\n",
    "\n",
    "\n",
    "``2.`` Calculer : $A \\times x_{0}$\n",
    "\n",
    "\n",
    "``3.`` Normalisation : $\\frac{A_{x_{0}}}{||A_{x_{0}}||}$\n",
    "\n",
    "\n",
    "``4.`` Calculer : $\\frac{x^{T}Ax}{x^{T}x}$\n",
    "\n",
    "\n",
    "``5.`` Répéter ``2 & 3`` jusqu'à ce que le vecteur obtenu converge vers $\\lambda_{1}$\n",
    "\n",
    "\n",
    "Pour trouver les autres valeurs propres :\n",
    "\n",
    "*Méthode de déflation* \n",
    "\n",
    "``5.`` Calculer $v_{1} = Ax_{0} - (x_{0}.T \\times Ax_{0}) \\times x_{0}$\n",
    "\n",
    "``6.`` Normalisation : $v_{1} = \\frac{v_{1}}{||v_{1}||}$\n",
    "\n",
    "``7.`` On applique à nouveau la méthode par puissance itérée en prenant ``v1`` comme vecteur initial."
   ]
  },
  {
   "cell_type": "code",
   "execution_count": 83,
   "id": "fbe9c033",
   "metadata": {},
   "outputs": [
    {
     "name": "stdout",
     "output_type": "stream",
     "text": [
      "A = \n",
      "[[3 4 0]\n",
      " [1 3 0]\n",
      " [0 0 2]]\n"
     ]
    }
   ],
   "source": [
    "# Implémentation PYTHON\n",
    "import numpy as np\n",
    "import numpy as np\n",
    "import matplotlib.pyplot as plt\n",
    "import math\n",
    "\n",
    "A   = np.matrix([[3, 4, 0], [1, 3, 0], [0, 0, 2]])\n",
    "eps = 1e-15\n",
    "x0  = np.matrix([2, 1, 1]).T\n",
    "\n",
    "print(\"A = \")\n",
    "print(A)"
   ]
  },
  {
   "cell_type": "markdown",
   "id": "af16b86a",
   "metadata": {},
   "source": [
    "``Q1.``"
   ]
  },
  {
   "cell_type": "code",
   "execution_count": 84,
   "id": "cb756b8b",
   "metadata": {},
   "outputs": [],
   "source": [
    "# Méthode de la puissance itérée\n",
    "def iterpow(A, x0, eps):\n",
    "    v_anc  = 0\n",
    "    v_cour = 1\n",
    "    y       = x0\n",
    "    nb_iter = 0\n",
    " \n",
    "    while (abs(v_cour - v_anc) > eps):\n",
    "        nb_iter+=1\n",
    "        v_anc = v_cour\n",
    "        x = y/np.linalg.norm(y)\n",
    "        y = A@x\n",
    "        \n",
    "        # Quotient de Rayleigh\n",
    "        v_cour = (x.T*y)[0,0] / (x.T*x)[0,0]\n",
    "        \n",
    "    return v_cour, x, nb_iter"
   ]
  },
  {
   "cell_type": "code",
   "execution_count": 85,
   "id": "76bb59fe",
   "metadata": {},
   "outputs": [
    {
     "name": "stdout",
     "output_type": "stream",
     "text": [
      "\n",
      " * Lambda 1 : \n",
      "5.0\n",
      "\n",
      " * Vecteur propre associé à lambda 1 :\n",
      "[[8.94427191e-01]\n",
      " [4.47213595e-01]\n",
      " [4.91716548e-09]]\n",
      "\n",
      " * Nombre d'itérations : \n",
      "21\n"
     ]
    }
   ],
   "source": [
    "v1, eigen_vector, nb_iter = iterpow(A, x0, eps)\n",
    "print(\"\\n * Lambda 1 : \")\n",
    "print(v1)\n",
    "print(\"\\n * Vecteur propre associé à lambda 1 :\")\n",
    "print(eigen_vector)\n",
    "print(\"\\n * Nombre d'itérations : \")\n",
    "print(nb_iter)\n"
   ]
  },
  {
   "cell_type": "code",
   "execution_count": 86,
   "id": "609c29c0",
   "metadata": {},
   "outputs": [],
   "source": [
    "# Tests multiples\n",
    "\n",
    "# Matrices de test\n",
    "A1 = np.array([[4, -1], [2, 1]])\n",
    "A2 = np.array([[0, 2, 3], [0, 5, 0], [0, 8, 0]])\n",
    "A3 = np.array([[3, 1, 0], [1, 2, 1], [0, 1, 3]])\n",
    "\n",
    "params = [(A1, np.matrix([1, 1]).T, eps),\n",
    "          (A2, np.matrix([1, 1, 1]).T, eps),\n",
    "          (A3, np.matrix([1, 1, 1]).T, eps)]\n",
    "\n",
    "\n",
    "\n",
    "def test_iterpow():\n",
    "    for A, x0, eps in params:\n",
    "        v_cour, eigen_vector, nb_iter = iterpow(A, x0, eps)\n",
    "        print(\"Matrice de test :\")\n",
    "        print(A)\n",
    "        print(\"Vecteur propre associé à la valeur propre {:.1f} :\".format(v_cour))\n",
    "        print(eigen_vector)\n",
    "        print(\"Nombre d'itérations :\", nb_iter)\n",
    "        print()"
   ]
  },
  {
   "cell_type": "code",
   "execution_count": 87,
   "id": "36b37566",
   "metadata": {},
   "outputs": [
    {
     "name": "stdout",
     "output_type": "stream",
     "text": [
      "Matrice de test :\n",
      "[[ 4 -1]\n",
      " [ 2  1]]\n",
      "Vecteur propre associé à la valeur propre 3.0 :\n",
      "[[0.70710678]\n",
      " [0.70710678]]\n",
      "Nombre d'itérations : 2\n",
      "\n",
      "Matrice de test :\n",
      "[[0 2 3]\n",
      " [0 5 0]\n",
      " [0 8 0]]\n",
      "Vecteur propre associé à la valeur propre 5.0 :\n",
      "[[0.58473129]\n",
      " [0.42994948]\n",
      " [0.68791916]]\n",
      "Nombre d'itérations : 4\n",
      "\n",
      "Matrice de test :\n",
      "[[3 1 0]\n",
      " [1 2 1]\n",
      " [0 1 3]]\n",
      "Vecteur propre associé à la valeur propre 4.0 :\n",
      "[[0.57735027]\n",
      " [0.57735027]\n",
      " [0.57735027]]\n",
      "Nombre d'itérations : 2\n",
      "\n"
     ]
    }
   ],
   "source": [
    "test_iterpow()"
   ]
  },
  {
   "cell_type": "markdown",
   "id": "c9825646",
   "metadata": {},
   "source": [
    "``Q2.`` Trace de la vitesse de convergence de la méthode"
   ]
  },
  {
   "cell_type": "code",
   "execution_count": 88,
   "id": "baf49c34",
   "metadata": {},
   "outputs": [],
   "source": [
    "\n",
    "def iterpow_trace(A, x0, eps):\n",
    "    v_anc  = 0\n",
    "    v_cour = 1\n",
    "    y       = x0\n",
    "    nb_iter = 0\n",
    "    conv = []\n",
    " \n",
    "    while (abs(v_cour - v_anc) > eps):\n",
    "        nb_iter+=1\n",
    "        v_anc = v_cour\n",
    "        x = y/np.linalg.norm(y)\n",
    "        y = A@x\n",
    "        v_cour = (x.T*y)[0,0] / (x.T*x)[0,0]\n",
    "        diff = abs(v_cour - v_anc)\n",
    "        if(diff > 0):\n",
    "            conv.append(math.log10(diff))\n",
    " \n",
    "    print(conv)\n",
    "    plt.plot(range(1, nb_iter), conv)\n",
    "    plt.title('Vitesse de convergence')\n",
    "    plt.xlabel('Nombre d\\'itérations')\n",
    "    plt.ylabel('log10')\n",
    "    plt.show()\n",
    "    \n",
    "    return v_cour, x, nb_iter\n"
   ]
  },
  {
   "cell_type": "code",
   "execution_count": 89,
   "id": "4d8e755e",
   "metadata": {
    "scrolled": true
   },
   "outputs": [
    {
     "name": "stdout",
     "output_type": "stream",
     "text": [
      "[0.5440680443502757, -0.3904304068932923, -1.1093470929081555, -1.8919030413550584, -2.6856220640968966, -3.481155560768471, -4.276980115232959, -5.072851258055696, -5.868729855452093, -6.664609643709324, -7.460489644570413, -8.256369483720082, -9.052250023118289, -9.848132324456563, -10.644023897907804, -11.439776475191717, -12.235922034874793, -13.02619391793429, -13.847379800543134, -14.574378528479397]\n"
     ]
    },
    {
     "data": {
      "image/png": "[encoded data removed]",
      "text/plain": [
       "<Figure size 640x480 with 1 Axes>"
      ]
     },
     "metadata": {},
     "output_type": "display_data"
    },
    {
     "data": {
      "text/plain": [
       "(5.0,\n",
       " matrix([[8.94427191e-01],\n",
       "         [4.47213595e-01],\n",
       "         [4.91716548e-09]]),\n",
       " 21)"
      ]
     },
     "execution_count": 89,
     "metadata": {},
     "output_type": "execute_result"
    }
   ],
   "source": [
    "iterpow_trace(A, x0, eps)"
   ]
  },
  {
   "cell_type": "markdown",
   "id": "94c8dba6",
   "metadata": {},
   "source": [
    "``Q3.`` ``Méthode de déflation``"
   ]
  },
  {
   "cell_type": "code",
   "execution_count": 90,
   "id": "ef6af26d",
   "metadata": {},
   "outputs": [],
   "source": [
    "\n",
    "def deflation(A, x0, eps):\n",
    "    n = A.shape[0] \n",
    "    eigvals = []\n",
    "    eigvect = []\n",
    "\n",
    "    for i in range(n):\n",
    "        v, x, nb_iter = iterpow(A, x0, eps)\n",
    "        eigvals.append(v)\n",
    "        eigvect.append(x)\n",
    "        \n",
    "        A = A - v*((x@x.T)/(x.T@x))\n",
    "        \n",
    "    return eigvals, eigvect\n"
   ]
  },
  {
   "cell_type": "code",
   "execution_count": 91,
   "id": "43028675",
   "metadata": {},
   "outputs": [
    {
     "data": {
      "text/plain": [
       "([5.0, 2.0, 1.0000000000000007],\n",
       " [matrix([[8.94427191e-01],\n",
       "          [4.47213595e-01],\n",
       "          [4.91716548e-09]]),\n",
       "  matrix([[-1.09951163e-08],\n",
       "          [-5.49755814e-09],\n",
       "          [ 1.00000000e+00]]),\n",
       "  matrix([[7.07106781e-01],\n",
       "          [7.07106781e-01],\n",
       "          [3.50943015e-24]])])"
      ]
     },
     "execution_count": 91,
     "metadata": {},
     "output_type": "execute_result"
    }
   ],
   "source": [
    "deflation(A, x0, eps)"
   ]
  },
  {
   "cell_type": "code",
   "execution_count": 92,
   "id": "a71b5b23",
   "metadata": {
    "scrolled": true
   },
   "outputs": [
    {
     "name": "stdout",
     "output_type": "stream",
     "text": [
      "\n",
      "Valeurs propres attendues : [-9 1] / Valeurs propres trouvées : \n",
      " [-9.000000000000002, 1.0000000000000002]\n",
      "\n",
      "Valeurs propres attendues : [3 2 1] / Valeurs propres trouvées : \n",
      " [2.999999999999999, 2.000000000000001, 1.0000000000000002]\n",
      "\n",
      "Valeurs propres attendues : [4 1 1] / Valeurs propres trouvées : \n",
      " [4.0, 0.9999999999999998, -1.2157879835793144e-16]\n"
     ]
    }
   ],
   "source": [
    "\n",
    "# Test 1\n",
    "A1 = np.matrix([[0, 3], [3, -8]])\n",
    "x0 = np.matrix([1, 1]).T\n",
    "eps = 1e-15\n",
    "\n",
    "eigval, eigvect = deflation(A1, x0, eps)\n",
    "print(\"\\nValeurs propres attendues : [-9 1] / Valeurs propres trouvées : \\n\", eigval)\n",
    "\n",
    "# Test 2\n",
    "A2 = np.matrix([[2, 0, 1], [0, 2, 0], [1, 0, 2]])\n",
    "x2 = np.matrix([2, 1, 1]).T\n",
    "eps = 1e-15\n",
    "eigval, eigvect = deflation(A2, x2, eps)\n",
    "print(\"\\nValeurs propres attendues : [3 2 1] / Valeurs propres trouvées : \\n\", eigval)\n",
    "\n",
    "# Test 3\n",
    "A3 = np.matrix([[2, 1, 1], [1, 2, 1], [1, 1, 2]])\n",
    "x3 = np.matrix([4, 1, 1]).T\n",
    "eps = 1e-15\n",
    "eigval, eigvect = deflation(A3, x3, eps)\n",
    "print(\"\\nValeurs propres attendues : [4 1 1] / Valeurs propres trouvées : \\n\", eigval)\n"
   ]
  },
  {
   "cell_type": "markdown",
   "id": "ce046237",
   "metadata": {},
   "source": [
    "## 2. PageRank de Google"
   ]
  },
  {
   "cell_type": "markdown",
   "id": "d32471ab",
   "metadata": {},
   "source": [
    "``Q1.``\n",
    "\n",
    "La matrice d'adjacence G est définie comme suit : \n",
    "\n",
    "* $G_{i,j} = 1$ si sur la page $j$ il y a un lien vers la page $i$\n",
    "\n",
    "* $G_{i,j} = 0$ sinon."
   ]
  },
  {
   "cell_type": "code",
   "execution_count": 93,
   "id": "0be1b45d",
   "metadata": {},
   "outputs": [],
   "source": [
    "# Lecture du fichier \"webgraph.dat\"\n",
    "\n",
    "def read(filename):\n",
    "    with open(filename, 'r') as f:\n",
    "        lines = [line.strip().split() for line in f.readlines()]\n",
    "    f.close()\n",
    "    \n",
    "    # Matrice d'adjacence\n",
    "    G = np.zeros((500, 500)).T\n",
    "    \n",
    "    for l in lines:\n",
    "        i, j     = int(l[0]) - 1, int(l[1]) - 1\n",
    "        G[i][j]  = 1\n",
    "    \n",
    "    return G"
   ]
  },
  {
   "cell_type": "code",
   "execution_count": 94,
   "id": "8d08d9bc",
   "metadata": {},
   "outputs": [
    {
     "name": "stdout",
     "output_type": "stream",
     "text": [
      "[[0. 1. 1. ... 0. 0. 0.]\n",
      " [0. 0. 0. ... 0. 0. 0.]\n",
      " [1. 1. 0. ... 0. 0. 0.]\n",
      " ...\n",
      " [1. 1. 1. ... 0. 1. 0.]\n",
      " [1. 1. 1. ... 1. 0. 0.]\n",
      " [1. 1. 1. ... 0. 0. 0.]]\n"
     ]
    }
   ],
   "source": [
    "G = read('webgraph.dat')\n",
    "print(G)"
   ]
  },
  {
   "cell_type": "markdown",
   "id": "db19cf0c",
   "metadata": {},
   "source": [
    "``Q2.``\n",
    "\n",
    "Le paramètre $d$ est choisi entre 0 et 1."
   ]
  },
  {
   "cell_type": "code",
   "execution_count": 95,
   "id": "415f2a35",
   "metadata": {},
   "outputs": [],
   "source": [
    "def transition_probabiliste(G, d):\n",
    "    n = np.shape(G)[0]\n",
    "    A = np.zeros((n, n))\n",
    "    \n",
    "    for j in range(n):\n",
    "        lj = 0\n",
    "        \n",
    "        # Nombre de liens sortants de la page j\n",
    "        for row in G:\n",
    "            lj+=row[j]\n",
    "        \n",
    "        if lj:\n",
    "            for i in range(n):\n",
    "                A[i,j] = d/n + ((1-d)/lj) * G[i,j]\n",
    "        else:\n",
    "            A[:,j] = 1/n\n",
    "\n",
    "    return np.matrix(A)"
   ]
  },
  {
   "cell_type": "code",
   "execution_count": 96,
   "id": "5003b0b6",
   "metadata": {},
   "outputs": [
    {
     "name": "stdout",
     "output_type": "stream",
     "text": [
      "[[0.0014     0.0020424  0.00204378 ... 0.0014     0.0014     0.0014    ]\n",
      " [0.0014     0.0014     0.0014     ... 0.0014     0.0014     0.0014    ]\n",
      " [0.002025   0.0020424  0.0014     ... 0.0014     0.0014     0.0014    ]\n",
      " ...\n",
      " [0.002025   0.0020424  0.00204378 ... 0.0014     0.0764     0.0014    ]\n",
      " [0.002025   0.0020424  0.00204378 ... 0.0764     0.0014     0.0014    ]\n",
      " [0.002025   0.0020424  0.00204378 ... 0.0014     0.0014     0.0014    ]]\n"
     ]
    }
   ],
   "source": [
    "AP = transition_probabiliste(G, 0.7)\n",
    "print(AP)"
   ]
  },
  {
   "cell_type": "code",
   "execution_count": 97,
   "id": "a538b637",
   "metadata": {},
   "outputs": [
    {
     "name": "stdout",
     "output_type": "stream",
     "text": [
      "* Valeur propre de + grand module :  1.0\n"
     ]
    }
   ],
   "source": [
    "# Popularité des pages\n",
    "x0 = np.matrix(np.ones(500)).T\n",
    "v1, p, nb_iter = iterpow(AP, x0, 1e-15)\n",
    "\n",
    "#print(p)\n",
    "print(\"* Valeur propre de + grand module : \", v1)\n",
    "#print(\"* Vecteur propre associé : \", p)"
   ]
  },
  {
   "cell_type": "markdown",
   "id": "8b68e1cb-089c-41ee-8d7e-bfaaa74d1abe",
   "metadata": {},
   "source": [
    "``Q3``"
   ]
  },
  {
   "cell_type": "markdown",
   "id": "f86e327b",
   "metadata": {},
   "source": [
    "``Pour déterminer les pages les plus populaires, nous trions les éléments de p par ordre décroissant.``"
   ]
  },
  {
   "cell_type": "code",
   "execution_count": 98,
   "id": "38cde092",
   "metadata": {},
   "outputs": [
    {
     "name": "stdout",
     "output_type": "stream",
     "text": [
      "1 : page n° 6 | Probabilité : 0.023611\n",
      "2 : page n° 55 | Probabilité : 0.012890\n",
      "3 : page n° 158 | Probabilité : 0.017116\n",
      "4 : page n° 161 | Probabilité : 0.017540\n",
      "5 : page n° 160 | Probabilité : 0.015787\n",
      "6 : page n° 176 | Probabilité : 0.666179\n",
      "7 : page n° 159 | Probabilité : 0.014469\n",
      "8 : page n° 177 | Probabilité : 0.015349\n",
      "9 : page n° 178 | Probabilité : 0.020010\n",
      "10 : page n° 44 | Probabilité : 0.013457\n",
      "11 : page n° 153 | Probabilité : 0.013457\n",
      "12 : page n° 224 | Probabilité : 0.017034\n",
      "13 : page n° 76 | Probabilité : 0.015639\n",
      "14 : page n° 280 | Probabilité : 0.012890\n",
      "15 : page n° 162 | Probabilité : 0.012890\n",
      "16 : page n° 80 | Probabilité : 0.012905\n",
      "17 : page n° 54 | Probabilité : 0.014174\n",
      "18 : page n° 1 | Probabilité : 0.014078\n",
      "19 : page n° 82 | Probabilité : 0.013977\n",
      "20 : page n° 190 | Probabilité : 0.012890\n"
     ]
    }
   ],
   "source": [
    "# Tri décroissant sur p \n",
    "popularity = np.argsort(p, axis=0)[::-1]\n",
    "\n",
    "# Affichage des 20 pages les + populaires\n",
    "for i in range(20):\n",
    "    page_index = popularity[i, 0] + 1\n",
    "    print(\"{:d} : page n° {:d} | Probabilité : {:f}\".format(i + 1, page_index, float(p[i][0])))"
   ]
  },
  {
   "cell_type": "markdown",
   "id": "3c1dd968",
   "metadata": {},
   "source": [
    "``Q4.``\n"
   ]
  },
  {
   "cell_type": "code",
   "execution_count": 99,
   "id": "520839ec",
   "metadata": {},
   "outputs": [],
   "source": [
    "def system_eigenval(A):\n",
    "    A_minus_I = A - np.identity(500)\n",
    "    b = np.linalg.solve(A_minus_I, np.zeros(500))\n",
    "    return b"
   ]
  },
  {
   "cell_type": "code",
   "execution_count": 100,
   "id": "6e26c074",
   "metadata": {},
   "outputs": [],
   "source": [
    "res = system_eigenval(AP)"
   ]
  },
  {
   "cell_type": "code",
   "execution_count": 101,
   "id": "2fc4cc77",
   "metadata": {},
   "outputs": [],
   "source": [
    "# Mesure du temps d'exécution\n",
    "import time"
   ]
  },
  {
   "cell_type": "code",
   "execution_count": 102,
   "id": "ae1c4b47",
   "metadata": {},
   "outputs": [
    {
     "name": "stdout",
     "output_type": "stream",
     "text": [
      "Temps d'exécution :  18.190107000000125  secondes\n"
     ]
    }
   ],
   "source": [
    "start = time.perf_counter()\n",
    "\n",
    "for i in range(1000):\n",
    "    p = system_eigenval(AP)\n",
    "    \n",
    "    # Tri décroissant sur p \n",
    "    popularity = np.argsort(p, axis=0)[::-1]\n",
    "    \n",
    "    # Affichage des 20 pages les + populaires\n",
    "    for k in range(20):\n",
    "        page_index = popularity[k] + 1\n",
    "        #print(page_index)\n",
    "    \n",
    "end = time.perf_counter()\n",
    "print(\"Temps d'exécution : \", end - start, \" secondes\")"
   ]
  },
  {
   "cell_type": "code",
   "execution_count": 103,
   "id": "adae241e",
   "metadata": {},
   "outputs": [
    {
     "name": "stdout",
     "output_type": "stream",
     "text": [
      "Temps d'exécution :  5.905897200000027  secondes\n"
     ]
    }
   ],
   "source": [
    "start = time.perf_counter()\n",
    "\n",
    "x0 = np.matrix(np.ones(500)).T\n",
    "\n",
    "for i in range(1000):\n",
    "    #AP = transition_probabiliste(G, 0.7)\n",
    "\n",
    "    _, p, _ = iterpow(AP, x0, 1e-15)\n",
    "\n",
    "    # Tri décroissant sur p \n",
    "    popularity = np.argsort(p, axis=0)[::-1]\n",
    "\n",
    "    # Affichage des 20 pages les + populaires\n",
    "    for i in range(20):\n",
    "        page_index = popularity[i, 0] + 1\n",
    "        #print(page_index)\n",
    "    \n",
    "end = time.perf_counter()\n",
    "print(\"Temps d'exécution : \", end - start, \" secondes\")"
   ]
  },
  {
   "cell_type": "markdown",
   "id": "ee8ca32f-839e-4748-937b-24e55928d1c8",
   "metadata": {},
   "source": [
    "* ***Observation*** : La résolution par la méthode de la puissance itérée semble plus rapide que la résolution directe par système linéaire avec l'implémentation proposée."
   ]
  }
 ],
 "metadata": {
  "kernelspec": {
   "display_name": "Python 3 (ipykernel)",
   "language": "python",
   "name": "python3"
  },
  "language_info": {
   "codemirror_mode": {
    "name": "ipython",
    "version": 3
   },
   "file_extension": ".py",
   "mimetype": "text/x-python",
   "name": "python",
   "nbconvert_exporter": "python",
   "pygments_lexer": "ipython3",
   "version": "3.9.10"
  }
 },
 "nbformat": 4,
 "nbformat_minor": 5
}
