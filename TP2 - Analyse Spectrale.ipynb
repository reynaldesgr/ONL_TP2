{
 "cells": [
  {
   "cell_type": "markdown",
   "id": "49a505d7",
   "metadata": {},
   "source": [
    "## TP : Analyse Spectrale"
   ]
  },
  {
   "cell_type": "markdown",
   "id": "1dfcbc32",
   "metadata": {},
   "source": [
    "### 1. Puissance itérée et méthode de déflation"
   ]
  },
  {
   "cell_type": "markdown",
   "id": "557d3c18",
   "metadata": {},
   "source": [
    "* **Principe**\n",
    "\n",
    "La méthode de la puissance itérée consiste à calculer la suite :\n",
    "\n",
    "$x_{k+1} = \\frac{A_{x_{k}}}{||A_{x_{k}}||}$\n",
    "\n",
    "qui va converger vers un vecteur propre associé à la valeur propre de plus grand module $\\lambda_{1}$."
   ]
  },
  {
   "cell_type": "markdown",
   "id": "e70dec8e",
   "metadata": {},
   "source": [
    "* **Fonctionnement**\n",
    "\n",
    "*Méthode de la puissance itérée*\n",
    "\n",
    "``1.`` Choisir un vecteur initial non nul $x_0$\n",
    "\n",
    "\n",
    "``2.`` Calculer : $A \\times x_{0}$\n",
    "\n",
    "\n",
    "``3.`` Normalisation : $\\frac{A_{x_{0}}}{||A_{x_{0}}||}$\n",
    "\n",
    "\n",
    "``4.`` Calculer : $\\frac{x^{T}Ax}{x^{T}x}$\n",
    "\n",
    "\n",
    "``5.`` Répéter ``2 & 3`` jusqu'à ce que le vecteur obtenu converge vers $\\lambda_{1}$\n",
    "\n",
    "\n",
    "Pour trouver les autres valeurs propres :\n",
    "\n",
    "*Méthode de déflation* \n",
    "\n",
    "``5.`` Calculer $v_{1} = Ax_{0} - (x_{0}.T \\times Ax_{0}) \\times x_{0}$\n",
    "\n",
    "``6.`` Normalisation : $v_{1} = \\frac{v_{1}}{||v_{1}||}$\n",
    "\n",
    "``7.`` On applique à nouveau la méthode par puissance itérée en prenant ``v1`` comme vecteur initial."
   ]
  },
  {
   "cell_type": "code",
   "execution_count": 1,
   "id": "fbe9c033",
   "metadata": {},
   "outputs": [
    {
     "name": "stdout",
     "output_type": "stream",
     "text": [
      "A = \n",
      "[[3 4 0]\n",
      " [1 3 0]\n",
      " [0 0 2]]\n"
     ]
    }
   ],
   "source": [
    "# Implémentation PYTHON\n",
    "import numpy as np\n",
    "import numpy as np\n",
    "import matplotlib.pyplot as plt\n",
    "import math\n",
    "\n",
    "A   = np.matrix([[3, 4, 0], [1, 3, 0], [0, 0, 2]])\n",
    "eps = 1e-15\n",
    "x0  = np.matrix([2, 1, 1]).T\n",
    "\n",
    "print(\"A = \")\n",
    "print(A)"
   ]
  },
  {
   "cell_type": "markdown",
   "id": "af16b86a",
   "metadata": {},
   "source": [
    "``Q1.``"
   ]
  },
  {
   "cell_type": "code",
   "execution_count": 2,
   "id": "cb756b8b",
   "metadata": {},
   "outputs": [],
   "source": [
    "# Méthode de la puissance itérée\n",
    "def iterpow(A, x0, eps):\n",
    "    v_anc  = 0\n",
    "    v_cour = 1\n",
    "    y       = x0\n",
    "    nb_iter = 0\n",
    " \n",
    "    while (abs(v_cour - v_anc) > eps):\n",
    "        nb_iter+=1\n",
    "        v_anc = v_cour\n",
    "        x = y/np.linalg.norm(y)\n",
    "        y = A@x\n",
    "        v_cour = (x.T*y)[0,0] / (x.T*x)[0,0]\n",
    "        \n",
    "    return v_cour, x, nb_iter"
   ]
  },
  {
   "cell_type": "code",
   "execution_count": 3,
   "id": "76bb59fe",
   "metadata": {},
   "outputs": [
    {
     "name": "stdout",
     "output_type": "stream",
     "text": [
      "\n",
      " * Lambda 1 : \n",
      "5.0\n",
      "\n",
      " * Vecteur propre associé à lambda 1 :\n",
      "[[8.94427191e-01]\n",
      " [4.47213595e-01]\n",
      " [4.91716548e-09]]\n",
      "\n",
      " * Nombre d'itérations : \n",
      "21\n"
     ]
    }
   ],
   "source": [
    "v1, eigen_vector, nb_iter = iterpow(A, x0, eps)\n",
    "print(\"\\n * Lambda 1 : \")\n",
    "print(v1)\n",
    "print(\"\\n * Vecteur propre associé à lambda 1 :\")\n",
    "print(eigen_vector)\n",
    "print(\"\\n * Nombre d'itérations : \")\n",
    "print(nb_iter)\n"
   ]
  },
  {
   "cell_type": "code",
   "execution_count": 4,
   "id": "609c29c0",
   "metadata": {},
   "outputs": [],
   "source": [
    "# Tests multiples\n",
    "\n",
    "# Matrices\n",
    "A1 = np.array([[4, -1], [2, 1]])\n",
    "A2 = np.array([[0, 2, 3], [0, 5, 0], [0, 8, 0]])\n",
    "A3 = np.array([[3, 1, 0], [1, 2, 1], [0, 1, 3]])\n",
    "\n",
    "params = [(A1, np.matrix([1, 1]).T, eps),\n",
    "          (A2, np.matrix([1, 1, 1]).T, eps),\n",
    "          (A3, np.matrix([1, 1, 1]).T, eps)]\n",
    "\n",
    "\n",
    "# Définir la fonction de test\n",
    "def test_iterpow():\n",
    "    for A, x0, eps in params:\n",
    "        v_cour, eigen_vector, nb_iter = iterpow(A, x0, eps)\n",
    "        print(\"Matrice de test :\")\n",
    "        print(A)\n",
    "        print(\"Vecteur propre associé à la valeur propre {:.1f} :\".format(v_cour))\n",
    "        print(eigen_vector)\n",
    "        print(\"Nombre d'itérations :\", nb_iter)\n",
    "        print()"
   ]
  },
  {
   "cell_type": "code",
   "execution_count": 5,
   "id": "36b37566",
   "metadata": {},
   "outputs": [
    {
     "name": "stdout",
     "output_type": "stream",
     "text": [
      "Matrice de test :\n",
      "[[ 4 -1]\n",
      " [ 2  1]]\n",
      "Vecteur propre associé à la valeur propre 3.0 :\n",
      "[[0.70710678]\n",
      " [0.70710678]]\n",
      "Nombre d'itérations : 2\n",
      "\n",
      "Matrice de test :\n",
      "[[0 2 3]\n",
      " [0 5 0]\n",
      " [0 8 0]]\n",
      "Vecteur propre associé à la valeur propre 5.0 :\n",
      "[[0.58473129]\n",
      " [0.42994948]\n",
      " [0.68791916]]\n",
      "Nombre d'itérations : 4\n",
      "\n",
      "Matrice de test :\n",
      "[[3 1 0]\n",
      " [1 2 1]\n",
      " [0 1 3]]\n",
      "Vecteur propre associé à la valeur propre 4.0 :\n",
      "[[0.57735027]\n",
      " [0.57735027]\n",
      " [0.57735027]]\n",
      "Nombre d'itérations : 2\n",
      "\n"
     ]
    }
   ],
   "source": [
    "# Exécuter la fonction de test\n",
    "test_iterpow()"
   ]
  },
  {
   "cell_type": "markdown",
   "id": "c9825646",
   "metadata": {},
   "source": [
    "``Q2.`` Trace de la vitesse de convergence de la méthode"
   ]
  },
  {
   "cell_type": "code",
   "execution_count": 27,
   "id": "baf49c34",
   "metadata": {},
   "outputs": [],
   "source": [
    "\n",
    "def iterpow_trace(A, x0, eps):\n",
    "    v_anc  = 0\n",
    "    v_cour = 1\n",
    "    y       = x0\n",
    "    nb_iter = 0\n",
    "    conv = []\n",
    " \n",
    "    while (abs(v_cour - v_anc) > eps):\n",
    "        nb_iter+=1\n",
    "        v_anc = v_cour\n",
    "        x = y/np.linalg.norm(y)\n",
    "        y = A@x\n",
    "        v_cour = (x.T*y)[0,0] / (x.T*x)[0,0]\n",
    "        diff = abs(v_cour - v_anc)\n",
    "        if(diff > 0):\n",
    "            conv.append(math.log10(diff))\n",
    " \n",
    "    print(conv)\n",
    "    plt.plot(range(1, nb_iter), conv)\n",
    "    plt.title('Vitesse de convergence')\n",
    "    plt.xlabel('Nombre d\\'itérations')\n",
    "    plt.ylabel('log10')\n",
    "    plt.show()\n",
    "    \n",
    "    return v_cour, x, nb_iter\n"
   ]
  },
  {
   "cell_type": "code",
   "execution_count": 28,
   "id": "4d8e755e",
   "metadata": {
    "scrolled": true
   },
   "outputs": [
    {
     "name": "stdout",
     "output_type": "stream",
     "text": [
      "[0.5440680443502757, -0.3904304068932923, -1.1093470929081504, -1.8919030413551186, -2.6856220640967097, -3.481155560768471, -4.276980115232959, -5.072851258055696, -5.868729855166982, -6.664609647273213, -7.460489644570413, -8.256369483720082, -9.052249588073135, -9.848135043512938, -10.643989910235076, -11.439882672644723, -12.235922034874793, -13.02619391793429, -13.847379800543134, -14.574378528479397]\n"
     ]
    },
    {
     "data": {
      "image/png": "[encoded data removed]",
      "text/plain": [
       "<Figure size 640x480 with 1 Axes>"
      ]
     },
     "metadata": {},
     "output_type": "display_data"
    },
    {
     "data": {
      "text/plain": [
       "(5.0,\n",
       " matrix([[8.94427191e-01],\n",
       "         [4.47213595e-01],\n",
       "         [4.91716548e-09]]),\n",
       " 21)"
      ]
     },
     "execution_count": 28,
     "metadata": {},
     "output_type": "execute_result"
    }
   ],
   "source": [
    "iterpow_trace(A, x0, eps)"
   ]
  },
  {
   "cell_type": "markdown",
   "id": "94c8dba6",
   "metadata": {},
   "source": [
    "``Q3.`` ``Méthode de déflation``"
   ]
  },
  {
   "cell_type": "code",
   "execution_count": 10,
   "id": "ef6af26d",
   "metadata": {},
   "outputs": [],
   "source": [
    "\n",
    "def deflation(A, x0, eps):\n",
    "    n = A.shape[0] \n",
    "    eigvals = []\n",
    "    eigvect = []\n",
    "\n",
    "    for i in range(n):\n",
    "        v, x, nb_iter = iterpow(A, x0, eps)\n",
    "        eigvals.append(v)\n",
    "        eigvect.append(x)\n",
    "        \n",
    "        A = A - v*((x@x.T)/(x.T@x))\n",
    "        \n",
    "    return eigvals, eigvect\n"
   ]
  },
  {
   "cell_type": "code",
   "execution_count": 11,
   "id": "43028675",
   "metadata": {},
   "outputs": [
    {
     "data": {
      "text/plain": [
       "([5.0, 2.0, 1.0000000000000004],\n",
       " [matrix([[8.94427191e-01],\n",
       "          [4.47213595e-01],\n",
       "          [4.91716548e-09]]),\n",
       "  matrix([[-1.09951162e-08],\n",
       "          [-5.49755807e-09],\n",
       "          [ 1.00000000e+00]]),\n",
       "  matrix([[ 7.07106781e-01],\n",
       "          [ 7.07106781e-01],\n",
       "          [-1.92296273e-16]])])"
      ]
     },
     "execution_count": 11,
     "metadata": {},
     "output_type": "execute_result"
    }
   ],
   "source": [
    "deflation(A, x0, eps)"
   ]
  },
  {
   "cell_type": "code",
   "execution_count": 12,
   "id": "a71b5b23",
   "metadata": {
    "scrolled": true
   },
   "outputs": [
    {
     "name": "stdout",
     "output_type": "stream",
     "text": [
      "\n",
      "Valeurs propres attendues : [-9 1] / Valeurs propres trouvées : \n",
      " [-9.000000000000002, 1.0000000000000002]\n",
      "\n",
      "Valeurs propres attendues : [3 2 1] / Valeurs propres trouvées : \n",
      " [2.9999999999999996, 2.0000000000000004, 1.0000000000000002]\n",
      "\n",
      "Valeurs propres attendues : [4 1 1] / Valeurs propres trouvées : \n",
      " [4.0, 0.9999999999999997, 0.9999999999999999]\n"
     ]
    }
   ],
   "source": [
    "\n",
    "# Test 1\n",
    "A1 = np.matrix([[0, 3], [3, -8]])\n",
    "x0 = np.matrix([1, 1]).T\n",
    "eps = 1e-15\n",
    "\n",
    "eigval, eigvect = deflation(A1, x0, eps)\n",
    "print(\"\\nValeurs propres attendues : [-9 1] / Valeurs propres trouvées : \\n\", eigval)\n",
    "\n",
    "# Test 2\n",
    "A2 = np.matrix([[2, 0, 1], [0, 2, 0], [1, 0, 2]])\n",
    "x2 = np.matrix([2, 1, 1]).T\n",
    "eps = 1e-15\n",
    "eigval, eigvect = deflation(A2, x2, eps)\n",
    "print(\"\\nValeurs propres attendues : [3 2 1] / Valeurs propres trouvées : \\n\", eigval)\n",
    "\n",
    "# Test 3\n",
    "A3 = np.matrix([[2, 1, 1], [1, 2, 1], [1, 1, 2]])\n",
    "x3 = np.matrix([4, 1, 1]).T\n",
    "eps = 1e-15\n",
    "eigval, eigvect = deflation(A3, x3, eps)\n",
    "print(\"\\nValeurs propres attendues : [4 1 1] / Valeurs propres trouvées : \\n\", eigval)\n"
   ]
  },
  {
   "cell_type": "markdown",
   "id": "ce046237",
   "metadata": {},
   "source": [
    "## 2. PageRank de Google"
   ]
  },
  {
   "cell_type": "markdown",
   "id": "d32471ab",
   "metadata": {},
   "source": [
    "``Q1.``\n",
    "\n",
    "La matrice d'adjacence G est définie comme suit : \n",
    "\n",
    "* $G_{i,j} = 1$ si sur la page $j$ il y a un lien vers la page $i$\n",
    "\n",
    "* $G_{i,j} = 0$ sinon."
   ]
  },
  {
   "cell_type": "code",
   "execution_count": 38,
   "id": "0be1b45d",
   "metadata": {},
   "outputs": [],
   "source": [
    "# Lecture du fichier \"webgraph.dat\"\n",
    "\n",
    "def read(filename):\n",
    "    with open(filename, 'r') as f:\n",
    "        lines = [line.strip().split() for line in f.readlines()]\n",
    "    f.close()\n",
    "    \n",
    "    # Matrice d'adjacence\n",
    "    G = np.zeros((500, 500)).T\n",
    "    \n",
    "    for l in lines:\n",
    "        i, j     = int(l[0]) - 1, int(l[1]) - 1\n",
    "        G[i][j]  = 1\n",
    "    \n",
    "    return G"
   ]
  },
  {
   "cell_type": "code",
   "execution_count": 39,
   "id": "8d08d9bc",
   "metadata": {},
   "outputs": [
    {
     "name": "stdout",
     "output_type": "stream",
     "text": [
      "[[0. 1. 1. ... 0. 0. 0.]\n",
      " [0. 0. 0. ... 0. 0. 0.]\n",
      " [1. 1. 0. ... 0. 0. 0.]\n",
      " ...\n",
      " [1. 1. 1. ... 0. 1. 0.]\n",
      " [1. 1. 1. ... 1. 0. 0.]\n",
      " [1. 1. 1. ... 0. 0. 0.]]\n"
     ]
    }
   ],
   "source": [
    "G = read('webgraph.dat')\n",
    "print(G)\n"
   ]
  },
  {
   "cell_type": "markdown",
   "id": "db19cf0c",
   "metadata": {},
   "source": [
    "``Q2.``\n",
    "\n",
    "Le paramètre $d$ est choisi entre 0 et 1."
   ]
  },
  {
   "cell_type": "code",
   "execution_count": 40,
   "id": "415f2a35",
   "metadata": {},
   "outputs": [],
   "source": [
    "def transition_probabiliste(G, d):\n",
    "    n = np.shape(G)[0]\n",
    "    A = np.zeros((n, n))\n",
    "\n",
    "    for j in range(n):\n",
    "        # Nombre de liens sortants de la page j\n",
    "        lj = np.count_nonzero(G[j,:])\n",
    "\n",
    "        # Si la page j n'a pas de lien sortant, la probabilité est uniforme\n",
    "        if lj == 0:\n",
    "            A[:,j] = 1/n\n",
    "            \n",
    "        # Sinon, calculer la probabilité en fonction des liens sortants\n",
    "        else:\n",
    "            for i in range(n):\n",
    "                if G[j,i] == 1:\n",
    "                    A[i,j] = (1-d)*G[j,i]/lj + d/n\n",
    "                else:\n",
    "                    A[i,j] = d/n\n",
    "                    \n",
    "    return np.matrix(A)"
   ]
  },
  {
   "cell_type": "code",
   "execution_count": 41,
   "id": "5003b0b6",
   "metadata": {},
   "outputs": [
    {
     "name": "stdout",
     "output_type": "stream",
     "text": [
      "[[0.0014     0.002      0.0134     ... 0.02015    0.02015    0.0214    ]\n",
      " [0.01251111 0.002      0.0134     ... 0.02015    0.02015    0.0214    ]\n",
      " [0.01251111 0.002      0.0014     ... 0.02015    0.02015    0.0214    ]\n",
      " ...\n",
      " [0.0014     0.002      0.0014     ... 0.0014     0.02015    0.0014    ]\n",
      " [0.0014     0.002      0.0014     ... 0.02015    0.0014     0.0014    ]\n",
      " [0.0014     0.002      0.0014     ... 0.0014     0.0014     0.0014    ]]\n"
     ]
    }
   ],
   "source": [
    "AP = transition_probabiliste(G, 0.7)\n",
    "print(AP)"
   ]
  },
  {
   "cell_type": "code",
   "execution_count": 42,
   "id": "a538b637",
   "metadata": {},
   "outputs": [
    {
     "name": "stdout",
     "output_type": "stream",
     "text": [
      "* Valeur propre de + grand module :  1.0000000000000016\n"
     ]
    }
   ],
   "source": [
    "# Définir la popularité des pages\n",
    "\n",
    "x0 = np.matrix(np.ones(500)).T\n",
    "v1, p, nb_iter = iterpow(AP, x0, 1e-15)\n",
    "\n",
    "#print(p)\n",
    "print(\"* Valeur propre de + grand module : \", v1)\n",
    "#print(\"* Vecteur propre associé : \", p)\n"
   ]
  },
  {
   "cell_type": "markdown",
   "id": "f86e327b",
   "metadata": {},
   "source": [
    "``Pour déterminer les pages les plus populaires, nous trions les éléments de p par ordre décroissant.``"
   ]
  },
  {
   "cell_type": "code",
   "execution_count": 43,
   "id": "38cde092",
   "metadata": {},
   "outputs": [
    {
     "name": "stdout",
     "output_type": "stream",
     "text": [
      "1\n",
      "2\n",
      "9\n",
      "3\n",
      "12\n",
      "5\n",
      "8\n",
      "13\n",
      "6\n",
      "11\n",
      "4\n",
      "28\n",
      "7\n",
      "10\n",
      "295\n",
      "350\n",
      "16\n",
      "26\n",
      "17\n",
      "18\n"
     ]
    }
   ],
   "source": [
    "# Tri décroissant sur p \n",
    "popularity = np.argsort(p, axis=0)[::-1]\n",
    "\n",
    "# Affichage des 20 pages les + populaires\n",
    "for i in range(20):\n",
    "    page_index = popularity[i, 0] + 1\n",
    "    print(page_index)\n"
   ]
  },
  {
   "cell_type": "markdown",
   "id": "3c1dd968",
   "metadata": {},
   "source": [
    "``Q4.``\n"
   ]
  },
  {
   "cell_type": "code",
   "execution_count": 44,
   "id": "520839ec",
   "metadata": {},
   "outputs": [],
   "source": [
    "def system_eigenval(A):\n",
    "    b = np.linalg.solve(A - np.eye(500), np.zeros(500))\n",
    "    return b"
   ]
  },
  {
   "cell_type": "code",
   "execution_count": 45,
   "id": "6e26c074",
   "metadata": {},
   "outputs": [],
   "source": [
    "res = system_eigenval(AP)"
   ]
  },
  {
   "cell_type": "code",
   "execution_count": 46,
   "id": "2fc4cc77",
   "metadata": {},
   "outputs": [],
   "source": [
    "# Mesure du temps d'exécution\n",
    "import time"
   ]
  },
  {
   "cell_type": "code",
   "execution_count": 51,
   "id": "a4cc3360",
   "metadata": {},
   "outputs": [
    {
     "name": "stdout",
     "output_type": "stream",
     "text": [
      "Temps d'exécution :  5.930324799999994  secondes\n"
     ]
    }
   ],
   "source": [
    "# np.linalg.solve()\n",
    "start = time.perf_counter()\n",
    "for i in range(1000):\n",
    "    system_eigenval(AP)\n",
    "end = time.perf_counter()\n",
    "print(\"Temps d'exécution : \", end - start, \" secondes\")"
   ]
  },
  {
   "cell_type": "code",
   "execution_count": 67,
   "id": "ae1c4b47",
   "metadata": {},
   "outputs": [
    {
     "name": "stdout",
     "output_type": "stream",
     "text": [
      "Temps d'exécution :  6.1802712999999585  secondes\n"
     ]
    }
   ],
   "source": [
    "start = time.perf_counter()\n",
    "for i in range(1000):\n",
    "    p = system_eigenval(AP)\n",
    "    # Tri décroissant sur p \n",
    "    popularity = np.argsort(p, axis=0)[::-1]\n",
    "    # Affichage des 20 pages les + populaires\n",
    "    for k in range(20):\n",
    "        page_index = popularity[k] + 1\n",
    "        #print(page_index)\n",
    "    \n",
    "end = time.perf_counter()\n",
    "print(\"Temps d'exécution : \", end - start, \" secondes\")"
   ]
  },
  {
   "cell_type": "code",
   "execution_count": 68,
   "id": "adae241e",
   "metadata": {},
   "outputs": [
    {
     "name": "stdout",
     "output_type": "stream",
     "text": [
      "Temps d'exécution :  265.1777978  secondes\n"
     ]
    }
   ],
   "source": [
    "start = time.perf_counter()\n",
    "x0 = np.matrix(np.ones(500)).T\n",
    "for i in range(1000):\n",
    "    AP = transition_probabiliste(G, 0.7)\n",
    "\n",
    "    _, p, _ = iterpow(AP, x0, 1e-15)\n",
    "\n",
    "    # Tri décroissant sur p \n",
    "    popularity = np.argsort(p, axis=0)[::-1]\n",
    "\n",
    "    # Affichage des 20 pages les + populaires\n",
    "    for i in range(20):\n",
    "        page_index = popularity[i, 0] + 1\n",
    "        #print(page_index)\n",
    "    \n",
    "end = time.perf_counter()\n",
    "print(\"Temps d'exécution : \", end - start, \" secondes\")"
   ]
  }
 ],
 "metadata": {
  "kernelspec": {
   "display_name": "Python 3 (ipykernel)",
   "language": "python",
   "name": "python3"
  },
  "language_info": {
   "codemirror_mode": {
    "name": "ipython",
    "version": 3
   },
   "file_extension": ".py",
   "mimetype": "text/x-python",
   "name": "python",
   "nbconvert_exporter": "python",
   "pygments_lexer": "ipython3",
   "version": "3.9.13"
  }
 },
 "nbformat": 4,
 "nbformat_minor": 5
}
